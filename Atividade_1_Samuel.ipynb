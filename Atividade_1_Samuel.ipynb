{
  "nbformat": 4,
  "nbformat_minor": 0,
  "metadata": {
    "colab": {
      "provenance": [],
      "authorship_tag": "ABX9TyPyF73If9gRWSYaq0pPGXn/",
      "include_colab_link": true
    },
    "kernelspec": {
      "name": "python3",
      "display_name": "Python 3"
    },
    "language_info": {
      "name": "python"
    }
  },
  "cells": [
    {
      "cell_type": "markdown",
      "metadata": {
        "id": "view-in-github",
        "colab_type": "text"
      },
      "source": [
        "<a href=\"https://colab.research.google.com/github/samuelrodriguesi/topicos_especiais_4/blob/main/Atividade_1_Samuel.ipynb\" target=\"_parent\"><img src=\"https://colab.research.google.com/assets/colab-badge.svg\" alt=\"Open In Colab\"/></a>"
      ]
    },
    {
      "cell_type": "code",
      "execution_count": 1,
      "metadata": {
        "colab": {
          "base_uri": "https://localhost:8080/"
        },
        "id": "sOwMzWRkbnOT",
        "outputId": "cb720d04-8e2a-44da-874a-0e3da1156786"
      },
      "outputs": [
        {
          "output_type": "stream",
          "name": "stdout",
          "text": [
            "Este bloco está corretamente indentado\n",
            "5\n",
            "25\n",
            "True\n",
            "True\n",
            "False\n",
            "False\n"
          ]
        }
      ],
      "source": [
        "# Notebook: Conceitos Fundamentais da Linguagem Python\n",
        "\n",
        "# 1. Comentários, Identação e Operadores\n",
        "\n",
        "# Comentários: São usados para explicar o código e são ignorados durante a execução.\n",
        "# Comentário de linha única:\n",
        "# Isto é um comentário\n",
        "\n",
        "\"\"\"\n",
        "Comentário de múltiplas linhas:\n",
        "Este é um exemplo de comentário\n",
        "usando aspas triplas.\n",
        "\"\"\"\n",
        "\n",
        "# Indentação: Em Python, a indentação é obrigatória e define blocos de código.\n",
        "if True:\n",
        "    print(\"Este bloco está corretamente indentado\")\n",
        "\n",
        "# Operadores:\n",
        "# Aritméticos: +, -, *, /, //, %, **\n",
        "print(3 + 2)    # Soma\n",
        "print(5 ** 2)   # Potência\n",
        "\n",
        "# Comparação: ==, !=, >, <, >=, <=\n",
        "print(5 == 5)   # True\n",
        "print(3 != 4)   # True\n",
        "\n",
        "# Lógicos: and, or, not\n",
        "print(True and False)  # False\n",
        "print(not True)        # False"
      ]
    },
    {
      "cell_type": "code",
      "source": [
        "# 2. Tipos de Dados\n",
        "\n",
        "inteiro = 10               # int\n",
        "ponto_flutuante = 3.14     # float\n",
        "complexo = 2 + 3j          # complex\n",
        "texto = \"Olá, mundo!\"      # str\n",
        "booleano = True            # bool\n",
        "\n",
        "print(type(inteiro))\n",
        "print(type(ponto_flutuante))\n",
        "print(type(complexo))\n",
        "print(type(texto))\n",
        "print(type(booleano))"
      ],
      "metadata": {
        "colab": {
          "base_uri": "https://localhost:8080/"
        },
        "id": "fhf9UrIIbs4B",
        "outputId": "51516d5e-047a-45aa-8ad7-b8f16590e0fa"
      },
      "execution_count": 2,
      "outputs": [
        {
          "output_type": "stream",
          "name": "stdout",
          "text": [
            "<class 'int'>\n",
            "<class 'float'>\n",
            "<class 'complex'>\n",
            "<class 'str'>\n",
            "<class 'bool'>\n"
          ]
        }
      ]
    },
    {
      "cell_type": "code",
      "source": [
        "# 3. Estruturas de Dados\n",
        "\n",
        "# Lista: mutável, ordenada\n",
        "lista = [1, 2, 3, 4]\n",
        "lista.append(5)\n",
        "print(lista)\n",
        "\n",
        "# Tupla: imutável, ordenada\n",
        "tupla = (10, 20, 30)\n",
        "print(tupla)\n",
        "\n",
        "# Conjunto: mutável, não ordenado, sem duplicatas\n",
        "conjunto = {1, 2, 2, 3}\n",
        "conjunto.add(4)\n",
        "print(conjunto)\n",
        "\n",
        "# Dicionário: pares chave-valor\n",
        "dicionario = {\"nome\": \"Ana\", \"idade\": 25}\n",
        "dicionario[\"idade\"] = 26\n",
        "print(dicionario)"
      ],
      "metadata": {
        "colab": {
          "base_uri": "https://localhost:8080/"
        },
        "id": "iVZnk3OMb6Ya",
        "outputId": "6123dff0-840d-4882-a4ed-95485890d19e"
      },
      "execution_count": 3,
      "outputs": [
        {
          "output_type": "stream",
          "name": "stdout",
          "text": [
            "[1, 2, 3, 4, 5]\n",
            "(10, 20, 30)\n",
            "{1, 2, 3, 4}\n",
            "{'nome': 'Ana', 'idade': 26}\n"
          ]
        }
      ]
    },
    {
      "cell_type": "code",
      "source": [
        "# 4. Condicionais e Loops\n",
        "\n",
        "# Condicionais:\n",
        "x = 10\n",
        "if x > 0:\n",
        "    print(\"Positivo\")\n",
        "elif x == 0:\n",
        "    print(\"Zero\")\n",
        "else:\n",
        "    print(\"Negativo\")\n",
        "\n",
        "# Loop for:\n",
        "for i in range(5):\n",
        "    print(i)\n",
        "\n",
        "# Loop while:\n",
        "contador = 0\n",
        "while contador < 3:\n",
        "    print(contador)\n",
        "    contador += 1"
      ],
      "metadata": {
        "colab": {
          "base_uri": "https://localhost:8080/"
        },
        "id": "K3ay6OHVb_9o",
        "outputId": "3ce1ac43-0fe8-4ed2-f085-0fd146da4f0d"
      },
      "execution_count": 4,
      "outputs": [
        {
          "output_type": "stream",
          "name": "stdout",
          "text": [
            "Positivo\n",
            "0\n",
            "1\n",
            "2\n",
            "3\n",
            "4\n",
            "0\n",
            "1\n",
            "2\n"
          ]
        }
      ]
    },
    {
      "cell_type": "code",
      "source": [
        "# 5. Funções\n",
        "\n",
        "def saudacao(nome):\n",
        "    return f\"Olá, {nome}!\"\n",
        "\n",
        "print(saudacao(\"Maria\"))\n",
        "\n",
        "# Função lambda: função anônima\n",
        "quadrado = lambda x: x ** 2\n",
        "print(quadrado(5))"
      ],
      "metadata": {
        "colab": {
          "base_uri": "https://localhost:8080/"
        },
        "id": "V-LzWflucDq3",
        "outputId": "a74c49eb-6894-404b-b1eb-d4c8055bbf5e"
      },
      "execution_count": 5,
      "outputs": [
        {
          "output_type": "stream",
          "name": "stdout",
          "text": [
            "Olá, Maria!\n",
            "25\n"
          ]
        }
      ]
    },
    {
      "cell_type": "code",
      "source": [
        "# 6. Arquivos\n",
        "\n",
        "# Escrevendo em um arquivo\n",
        "with open(\"exemplo.txt\", \"w\") as f:\n",
        "    f.write(\"Primeira linha\\nSegunda linha\")\n",
        "\n",
        "# Lendo o arquivo\n",
        "with open(\"exemplo.txt\", \"r\") as f:\n",
        "    conteudo = f.read()\n",
        "    print(conteudo)"
      ],
      "metadata": {
        "colab": {
          "base_uri": "https://localhost:8080/"
        },
        "id": "QqL07GEvcIkw",
        "outputId": "3f45f47a-5cbd-45f1-970e-d53751b71aa0"
      },
      "execution_count": 6,
      "outputs": [
        {
          "output_type": "stream",
          "name": "stdout",
          "text": [
            "Primeira linha\n",
            "Segunda linha\n"
          ]
        }
      ]
    },
    {
      "cell_type": "code",
      "source": [
        "# 7. Módulos Embutidos\n",
        "\n",
        "import math\n",
        "import random\n",
        "\n",
        "print(math.sqrt(16))          # Raiz quadrada\n",
        "print(random.randint(1, 10))  # Número aleatório entre 1 e 10"
      ],
      "metadata": {
        "colab": {
          "base_uri": "https://localhost:8080/"
        },
        "id": "Dgwqgm1mcLtW",
        "outputId": "ac282d46-e7d2-4d29-b8be-5d679c6077d6"
      },
      "execution_count": 7,
      "outputs": [
        {
          "output_type": "stream",
          "name": "stdout",
          "text": [
            "4.0\n",
            "8\n"
          ]
        }
      ]
    },
    {
      "cell_type": "code",
      "source": [
        "# 8. Tratamento de Erros\n",
        "\n",
        "try:\n",
        "    resultado = 10 / 0\n",
        "except ZeroDivisionError:\n",
        "    print(\"Erro: Divisão por zero não é permitida.\")\n",
        "finally:\n",
        "    print(\"Bloco try-except finalizado.\")"
      ],
      "metadata": {
        "colab": {
          "base_uri": "https://localhost:8080/"
        },
        "id": "mRJVWqA0cN0l",
        "outputId": "04559833-daac-42e4-8abe-2fc1c6bbd048"
      },
      "execution_count": 8,
      "outputs": [
        {
          "output_type": "stream",
          "name": "stdout",
          "text": [
            "Erro: Divisão por zero não é permitida.\n",
            "Bloco try-except finalizado.\n"
          ]
        }
      ]
    }
  ]
}